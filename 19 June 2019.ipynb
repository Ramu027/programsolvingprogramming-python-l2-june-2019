{
 "cells": [
  {
   "cell_type": "markdown",
   "metadata": {},
   "source": [
    "## Seating Arrangement"
   ]
  },
  {
   "cell_type": "code",
   "execution_count": 56,
   "metadata": {},
   "outputs": [
    {
     "name": "stdout",
     "output_type": "stream",
     "text": [
      "1\n",
      "1\n",
      "12  WS\n"
     ]
    }
   ],
   "source": [
    "def iswindows(n):\n",
    "    if n%6==0 or n%6==1:\n",
    "        print(n,\" WS\")\n",
    "    elif n%6==2 or n%6==5:\n",
    "        print(n,\" MS\")\n",
    "    else:\n",
    "        print(n,\" AS\")\n",
    "t=int(input())\n",
    "for i in range(0,t):\n",
    "    n=int(input())\n",
    "    s=n%12\n",
    "    if s==0:\n",
    "        n-=11\n",
    "    elif s<7:\n",
    "        n+=(2*(6-s)+1)\n",
    "    else:\n",
    "        n-=(2*(s-7)+1)\n",
    "    iswindows(n)"
   ]
  },
  {
   "cell_type": "markdown",
   "metadata": {},
   "source": [
    "## Ali and Helping innocent people"
   ]
  },
  {
   "cell_type": "code",
   "execution_count": null,
   "metadata": {},
   "outputs": [],
   "source": [
    "\n",
    "def ali(n):\n",
    "    for i in range(1,n):\n",
    "        if((int(a[0])+int(a[1]))%2==0 and (int(a[3])+int(a[4]))%2==0 and (int(a[4])+int(a[5]))%2==0 and (int(a[7])+int(a[8]))%2==0):\n",
    "            if(a[2]=='A' or a[2]=='E'or a[2]=='I' or a[2]=='O' or a[2]=='U' or a[2]=='Y'):\n",
    "                print(\"invalid\")\n",
    "            else:\n",
    "                print(\"valid\")\n",
    "        else:\n",
    "            print(\"invalid\")\n",
    "        break\n",
    "s=input()\n",
    "a=list(s)\n",
    "n=len(s)\n",
    "ali(n)"
   ]
  },
  {
   "cell_type": "markdown",
   "metadata": {},
   "source": [
    "## Anagrams"
   ]
  },
  {
   "cell_type": "code",
   "execution_count": 53,
   "metadata": {},
   "outputs": [
    {
     "name": "stdout",
     "output_type": "stream",
     "text": [
      "1\n",
      "cde\n",
      "abc\n",
      "4\n"
     ]
    }
   ],
   "source": [
    "def anagrams(a,b):\n",
    "    l1=[0]*26\n",
    "    l2=[0]*26\n",
    "    for i in range(0,len(a)):\n",
    "        l1[ord(a[i])-97]=l1[ord(a[i])-97]+1\n",
    "    for i in range(0,len(b)):\n",
    "        l2[ord(b[i])-97]=l2[ord(b[i])-97]+1\n",
    "        \n",
    "    count=0\n",
    "    for i in range(0,26):\n",
    "        count=count+abs(l1[i]-l2[i])\n",
    "    print(count)\n",
    "t=int(input())\n",
    "for i in range(0,t):\n",
    "    a=input()\n",
    "    b=input()\n",
    "    anagrams(a,b)"
   ]
  },
  {
   "cell_type": "markdown",
   "metadata": {},
   "source": [
    "## Find Product"
   ]
  },
  {
   "cell_type": "code",
   "execution_count": null,
   "metadata": {},
   "outputs": [],
   "source": [
    "t=int(input())\n",
    "prod=1\n",
    "a=(10**9+7)\n",
    "l=list(map(int,input().split()))\n",
    "for i in l:\n",
    "    prod=(prod*i)%a       \n",
    "print(prod)"
   ]
  },
  {
   "cell_type": "markdown",
   "metadata": {},
   "source": [
    "### Roy Profile Picture"
   ]
  },
  {
   "cell_type": "code",
   "execution_count": 1,
   "metadata": {},
   "outputs": [
    {
     "name": "stdout",
     "output_type": "stream",
     "text": [
      "2\n",
      "2\n",
      "1 10\n",
      "UPLOAD ANOTHER\n",
      "2 2\n",
      "ACCEPTED\n"
     ]
    }
   ],
   "source": [
    "\n",
    "def roypic(l,w,h):\n",
    "        if w<l or h<l:\n",
    "            print(\"UPLOAD ANOTHER\")\n",
    "        elif w==h:\n",
    "            print(\"ACCEPTED\")\n",
    "        else:\n",
    "            print(\"CROP IT\")\n",
    "        return\n",
    "\n",
    "l=int(input())\n",
    "n=int(input())\n",
    "for i in range(n):\n",
    "    d=input().split()\n",
    "    w=int(d[0])\n",
    "    h=int(d[1])\n",
    "    roypic(l,w,h)"
   ]
  },
  {
   "cell_type": "code",
   "execution_count": null,
   "metadata": {},
   "outputs": [],
   "source": []
  },
  {
   "cell_type": "code",
   "execution_count": null,
   "metadata": {},
   "outputs": [],
   "source": []
  }
 ],
 "metadata": {
  "kernelspec": {
   "display_name": "Python 3",
   "language": "python",
   "name": "python3"
  },
  "language_info": {
   "codemirror_mode": {
    "name": "ipython",
    "version": 3
   },
   "file_extension": ".py",
   "mimetype": "text/x-python",
   "name": "python",
   "nbconvert_exporter": "python",
   "pygments_lexer": "ipython3",
   "version": "3.7.3"
  }
 },
 "nbformat": 4,
 "nbformat_minor": 2
}
