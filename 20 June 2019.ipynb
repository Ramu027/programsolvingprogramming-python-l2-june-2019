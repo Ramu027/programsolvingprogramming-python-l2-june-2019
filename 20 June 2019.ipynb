{
 "cells": [
  {
   "cell_type": "markdown",
   "metadata": {},
   "source": [
    "**Day Objectives**\n",
    "- Regular Expression\n",
    "- Constructing Regular Expressions for various use cases\n",
    "- Regular Expressions Module and related in python\n",
    "- improving contacts application with name and phone number validation  regular expressions\n",
    "- File Handling\n",
    "- Text files\n",
    "- Upgrading the contacts application to store contact information in a text file"
   ]
  },
  {
   "cell_type": "markdown",
   "metadata": {},
   "source": [
    "### Regular Expression\n",
    "\n",
    "- Pattern Matching\n",
    "- Symbolic Notation of a Pattern\n",
    "     - Pattern :Format which repeats\n",
    "     - Pattern(RE)-Represents The set of all values trings matches that pattern\n",
    "- [0-9] -> Any digit \n",
    "\n",
    "- [a-z] -> Any lower case alphabet\n",
    "\n",
    "- [2468] -> All single digit Multiple of 2\n",
    "\n",
    "- ^[0-9]{2}$->All two digits numbers\n",
    "\n",
    "- [8642]\n",
    " \n",
    "- [1-9]*0$ --> all multiples of 10\n",
    "  \n",
    "- ^([1-9][0-9]*[05])$|^([5])$-.> All The multiples of 5\n",
    " \n",
    "- -> ^[1-9]{10}$->All 10 digit numbers\n",
    " \n",
    "- [w][o][r][d] or (word)->Searching for a word\n",
    " \n",
    "- ^[6-9][0-9]{9}$|^[0][6-9][0-9]{9}|^[+][9][1][6-9][0-9]{9} -> All valid  phone number (india )(start with 9876 folled by9digits)\n",
    " \n",
    "-  ^[0-9a-z][0-9a-z_.]{4,13}[0-9a-z][@][0-9a-z]{3,18}[.][a-z]{2,4}$-> Email Validation (username@domain.extension)\n",
    "    - username\n",
    "       - Length of user name: [6,15]\n",
    "       - No special characters other then _ .\n",
    "       - should not begin and end with _ .\n",
    "       - Character set : all digits and lower case alphabets\n",
    "    - Domain\n",
    "       - Lemgth of domain : [3,18]\n",
    "       - no special characters\n",
    "       - character set:all digits and lower case alphabet\n",
    "    - Extension\n",
    "       - Length of extention:[2,4]\n",
    "       - No special characters\n",
    "       - character set : lower casealphabet\n",
    "\n",
    "- ^[a].*[z]$ ->Any string of length 5 that starts with 'a' and end with 'z'\n",
    "\n"
   ]
  },
  {
   "cell_type": "code",
   "execution_count": null,
   "metadata": {},
   "outputs": [],
   "source": []
  },
  {
   "cell_type": "code",
   "execution_count": 3,
   "metadata": {},
   "outputs": [
    {
     "data": {
      "text/plain": [
       "True"
      ]
     },
     "execution_count": 3,
     "metadata": {},
     "output_type": "execute_result"
    }
   ],
   "source": [
    "# Function to validate a phone number \n",
    "\n",
    "import re\n",
    "\n",
    "\n",
    "def phoneNumberValidator(number):\n",
    "    pattern=\"^[6-9][0-9]{9}$|^[0][6-9][0-9]{9}|^[+][9][1][6-9][0-9]{9}\"\n",
    "    if re.match(pattern,str(number)):\n",
    "        return True\n",
    "    else:\n",
    "        return False\n",
    "#phoneNumberValidator(9010103952)\n"
   ]
  },
  {
   "cell_type": "code",
   "execution_count": 4,
   "metadata": {},
   "outputs": [
    {
     "data": {
      "text/plain": [
       "True"
      ]
     },
     "execution_count": 4,
     "metadata": {},
     "output_type": "execute_result"
    }
   ],
   "source": [
    "import re\n",
    "\n",
    "def emailvalidator(email):\n",
    "    pattern=\"^[0-9a-z][0-9a-z_.]{4,13}[0-9a-z][@][0-9a-z]{3,18}[.][a-z]{2,4}$\"\n",
    "    if re.match(pattern,str(email)):\n",
    "        return True\n",
    "    return False\n",
    "#emailvalidator(\"mandavaramu227@gmail.com\")"
   ]
  },
  {
   "cell_type": "code",
   "execution_count": null,
   "metadata": {},
   "outputs": [],
   "source": []
  },
  {
   "cell_type": "code",
   "execution_count": null,
   "metadata": {},
   "outputs": [],
   "source": []
  },
  {
   "cell_type": "code",
   "execution_count": 10,
   "metadata": {},
   "outputs": [
    {
     "name": "stdout",
     "output_type": "stream",
     "text": [
      "phone number is invalid\n"
     ]
    }
   ],
   "source": [
    "contacts={}\n",
    "\n",
    "\n",
    "def addContact(name,phone):\n",
    "    if name not in contacts and phoneNumberValidator(phone) :\n",
    "        \n",
    "        print(\"Contact added\")\n",
    "    if not phoneNumberValidator(phone):\n",
    "        print(\"phone number is invalid\" )\n",
    "    \n",
    "    return \n",
    "\n",
    "addContact(\"name1\",901010395)  "
   ]
  },
  {
   "cell_type": "code",
   "execution_count": null,
   "metadata": {},
   "outputs": [],
   "source": []
  },
  {
   "cell_type": "code",
   "execution_count": null,
   "metadata": {},
   "outputs": [],
   "source": [
    "def searchcontacts(name):\n",
    "    if name in contacts:\n",
    "        print(name,\":\",contacts[name])\n",
    "    else:\n",
    "        print(\"%s Does not exists\" % name)\n",
    "    return \n",
    "searchcontacts(\"name1\")"
   ]
  },
  {
   "cell_type": "code",
   "execution_count": null,
   "metadata": {},
   "outputs": [],
   "source": []
  },
  {
   "cell_type": "code",
   "execution_count": null,
   "metadata": {},
   "outputs": [],
   "source": [
    "def modifycontact(name,newphone):\n",
    "    if name not in contacts:\n",
    "        print(\"name is not exists\")\n",
    "    else:\n",
    "        contacts[name]=newphone\n",
    "        print(\"phone number is modifyed successfully\")\n",
    "    return\n",
    "modifycontact(\"name1\",8347867896)"
   ]
  },
  {
   "cell_type": "code",
   "execution_count": 30,
   "metadata": {},
   "outputs": [
    {
     "name": "stdout",
     "output_type": "stream",
     "text": [
      "contact added\n"
     ]
    },
    {
     "data": {
      "text/plain": [
       "{'name1': [9010103952, 'ramu.mandava@apssdc.in'],\n",
       " 'name3': [9874748392, 'name321@gamil.com']}"
      ]
     },
     "execution_count": 30,
     "metadata": {},
     "output_type": "execute_result"
    }
   ],
   "source": [
    "contacts={\"name1\":[9010103952,\"ramu.mandava@apssdc.in\"]}\n",
    "def addcontactstolist(name,phone,email):\n",
    "    if name in contacts:\n",
    "        print(name,\"already exists.\")\n",
    "        return\n",
    "    else:\n",
    "        if not phoneNumberValidator(phone):\n",
    "            print(\"Invalid phone number\")\n",
    "            return\n",
    "        if not emailvalidator(email):\n",
    "            print(\"Invalid Email Address\")\n",
    "            return\n",
    "        newcontact=[]\n",
    "        newcontact.append(phone)\n",
    "        newcontact.append(email)\n",
    "        contacts[name]=newcontact\n",
    "        print(\"contact added\")\n",
    "    return\n",
    "addcontactstolist(\"name3\",9874748392,\"name321@gamil.com\")\n",
    "contacts"
   ]
  },
  {
   "cell_type": "code",
   "execution_count": 31,
   "metadata": {},
   "outputs": [
    {
     "name": "stdout",
     "output_type": "stream",
     "text": [
      "name1 \n",
      " phone: 9010103952 \n",
      " Email: ramu.mandava@apssdc.in\n",
      "name3 \n",
      " phone: 9874748392 \n",
      " Email: name321@gamil.com\n"
     ]
    }
   ],
   "source": [
    "# Function to all contact\n",
    "\n",
    "def listallcontacts():\n",
    "    for contact,info in contacts.items():\n",
    "        print(contact,\"\\n\",\"phone:\",info[0],\"\\n\",\"Email:\",info[1])\n",
    "    return\n",
    "listallcontacts()\n",
    "        "
   ]
  },
  {
   "cell_type": "code",
   "execution_count": null,
   "metadata": {},
   "outputs": [],
   "source": [
    "#Function to edit contact information\n",
    "\n",
    "def editcontact(name,phone,email):\n",
    "    if name in contacts:\n",
    "        "
   ]
  },
  {
   "cell_type": "code",
   "execution_count": null,
   "metadata": {},
   "outputs": [],
   "source": []
  },
  {
   "cell_type": "markdown",
   "metadata": {},
   "source": [
    "### File Handling in Python\n",
    "\n",
    "File - Document containing information residing on the permanent location\n",
    "Types-Text,PDF,CSV etc\n",
    "\n",
    "File I/O - Chtannelling I/O Data to files\n",
    "Defaul I/O channels--Keyboard/screen\n",
    "change I/O channel to files for  Reading and Writing\n",
    "\n",
    "Read a file-Input from a file\n",
    "Write to a file-Output to a file\n",
    "\n",
    "Read/write  file - open(filename,mode)\n",
    "\n"
   ]
  },
  {
   "cell_type": "code",
   "execution_count": 42,
   "metadata": {},
   "outputs": [
    {
     "name": "stdout",
     "output_type": "stream",
     "text": [
      "Line1\n",
      "Line2\n",
      "Line3"
     ]
    }
   ],
   "source": [
    "#function to create a file\n",
    "\n",
    "def readFile(filename):\n",
    "    f=open(filename,\"r\")\n",
    "    filedata=f.read()\n",
    "    f.close()\n",
    "    \n",
    "    return filedata\n",
    "\n",
    "filename='DataFiles\\data.txt'\n",
    "#for line in readFile(filename).split('\\n'):\n",
    " #   print(line)\n",
    "    \n",
    "    \n",
    "    \n",
    "def printFileDataLines(filename):\n",
    "    with open(filename,'r') as f:\n",
    "        for line in f:\n",
    "            print(line,end=\"\")\n",
    "    return \n",
    "printFileDataLines(filename)\n",
    "#print(readFile(filename))"
   ]
  },
  {
   "cell_type": "code",
   "execution_count": null,
   "metadata": {},
   "outputs": [],
   "source": []
  },
  {
   "cell_type": "code",
   "execution_count": 45,
   "metadata": {},
   "outputs": [],
   "source": [
    "# Function to test the Write data into a file\n",
    "\n",
    "def writeIntoFile(filename,filedata):\n",
    "    with open(filename,'w') as f:\n",
    "        f.write(filedata)\n",
    "    return \n",
    "filename=\"DataFiles/data.txt\"\n",
    "writeIntoFile(filename,\"new data\\n\")\n",
    "\n"
   ]
  },
  {
   "cell_type": "code",
   "execution_count": 46,
   "metadata": {},
   "outputs": [],
   "source": [
    "#Function to append data to file\n",
    "\n",
    "def appendDataToFile(filename,filedata):\n",
    "    with open(filename,'a') as f:\n",
    "        f.write(filedata)\n",
    "    return\n",
    "#filename=\"DataFiles/data.t\"\n",
    "filedata=\"Line2\\nLine3\"\n",
    "appendDataToFile(filename,filedata)"
   ]
  },
  {
   "cell_type": "code",
   "execution_count": null,
   "metadata": {},
   "outputs": [],
   "source": []
  }
 ],
 "metadata": {
  "kernelspec": {
   "display_name": "Python 3",
   "language": "python",
   "name": "python3"
  },
  "language_info": {
   "codemirror_mode": {
    "name": "ipython",
    "version": 3
   },
   "file_extension": ".py",
   "mimetype": "text/x-python",
   "name": "python",
   "nbconvert_exporter": "python",
   "pygments_lexer": "ipython3",
   "version": "3.7.3"
  }
 },
 "nbformat": 4,
 "nbformat_minor": 2
}
