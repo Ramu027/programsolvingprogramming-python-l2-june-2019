{
 "cells": [
  {
   "cell_type": "code",
   "execution_count": null,
   "metadata": {},
   "outputs": [],
   "source": [
    "# read no of arrey elements \n",
    "n=input().split()\n",
    "n[0],n[1]=int(n[0]),int(n[1])\n",
    "a=input().split()\n",
    "sum=[]\n",
    "for i in range(0,n[0]):\n",
    "    if i==0:\n",
    "        sum.append(int(a[i]))\n",
    "    else:\n",
    "        sum.append(int(sum[i-1])+int(a[i]))\n",
    "\n",
    "\n",
    "for i in range(0, n[1] ):\n",
    "    inq=input().split()\n",
    "    i=int(inq[0])\n",
    "    j=int(inq[1])\n",
    "    if i>1:\n",
    "        print((sum[j-1]-sum[i-2])//(j-i+1))\n",
    "    else:\n",
    "        print((sum[j-1])//(j-i+1))"
   ]
  },
  {
   "cell_type": "code",
   "execution_count": null,
   "metadata": {},
   "outputs": [],
   "source": [
    "a,b=map(int,input().split())\n",
    "c=list(map(int,input().split()))\n",
    "z=[]\n",
    "ans=0\n",
    "for i in range (0,a):\n",
    "    ans+=c[i]\n",
    "    z.append(ans)\n",
    "#print(z)\n",
    "for i in range (0,b):\n",
    "    d,e=map(int,input().split())\n",
    "    if(d==1):\n",
    "        print((z[e-1])//(e-d+1))\n",
    "    else:\n",
    "        print((z[e-1]-z[d-2])//(e-d+1))"
   ]
  },
  {
   "cell_type": "code",
   "execution_count": 22,
   "metadata": {},
   "outputs": [],
   "source": [
    "# Problem: Special number Prime factors\n",
    "#function to determine if a number is special number \n",
    "def isSpecialNumber(n,p):\n",
    "    if numberprimefactors(n)>=p:\n",
    "        return True\n",
    "    return False\n",
    "\n",
    "# Function to check if number is prime\n",
    "def isprime(n):\n",
    "    flag=1\n",
    "    if n==2:\n",
    "        return True\n",
    "    \n",
    "    for i in range(2,n//2 + 1):\n",
    "        if n%i==0:\n",
    "            flag=0\n",
    "            return False\n",
    "    if flag==1:\n",
    "        return True\n",
    "\n",
    "    \n",
    "\n",
    "#Function to deternine no of prime factors for a given number\n",
    "def numberprimefactors(n):\n",
    "    if isprime(n):\n",
    "        return 1\n",
    "    count=0\n",
    "    for i in range(2,n//2+1):\n",
    "        if isprime(i) and n%i==0:\n",
    "            count+=1\n",
    "    return count\n",
    "\n",
    "def solution2():\n",
    "    p=int(input())\n",
    "    t=int(input())\n",
    "    for i in range(0,t):\n",
    "        n=int(input())\n",
    "        if isSpecialNumber(n,p):\n",
    "            print(\"YES\")\n",
    "        else:\n",
    "            print(\"NO\")\n",
    "\n",
    "\n"
   ]
  },
  {
   "cell_type": "code",
   "execution_count": 23,
   "metadata": {},
   "outputs": [
    {
     "name": "stdout",
     "output_type": "stream",
     "text": [
      "15\n"
     ]
    }
   ],
   "source": [
    "# Problem Highest Reaminder\n",
    "#Highest=0\n",
    "# x<n and n%x==Highest\n",
    "\n",
    "def highestReaminder(n):\n",
    "    hr=0\n",
    "    v=n\n",
    "    for i in range(n-1,n//2,-1):\n",
    "        r=n%i\n",
    "        if r>hr:\n",
    "            hr==r\n",
    "            v=i\n",
    "    print(v)\n",
    "    return\n",
    "highestReaminder(29)"
   ]
  },
  {
   "cell_type": "markdown",
   "metadata": {},
   "source": [
    "### Tuples\n",
    "t1=()\n",
    "li=[]\n",
    "\n",
    "Difference between Lists And Tuple\n",
    "Lists are mutable - can be changed/modified\n",
    "\n",
    "- Used to Access,modifiy,add and delete data\n",
    "\n",
    "\n",
    "Tuplea are immutable - cannot be changed once initilised\n",
    "\n",
    "- Used to Access data only\n",
    "- All Slicing work"
   ]
  },
  {
   "cell_type": "code",
   "execution_count": 28,
   "metadata": {},
   "outputs": [
    {
     "data": {
      "text/plain": [
       "(8, 6, 0)"
      ]
     },
     "execution_count": 28,
     "metadata": {},
     "output_type": "execute_result"
    }
   ],
   "source": [
    "t1=(1,2,8,6,0)\n",
    "t1[3] #Accessing the fourth element\n",
    "t1[len(t1)//2:] # Accessing all the elements from middle to last\n"
   ]
  },
  {
   "cell_type": "code",
   "execution_count": 29,
   "metadata": {},
   "outputs": [
    {
     "data": {
      "text/plain": [
       "tuple"
      ]
     },
     "execution_count": 29,
     "metadata": {},
     "output_type": "execute_result"
    }
   ],
   "source": [
    "type(t1)"
   ]
  },
  {
   "cell_type": "markdown",
   "metadata": {},
   "source": [
    "### Dictionaries\n",
    "\n",
    "\n",
    " It works on the concept of set\n",
    " Uinque Data\n",
    " \n",
    " keys and value\n",
    " key is the unique identifier for a value\n",
    " value is data that can be accessed with a key\n",
    " "
   ]
  },
  {
   "cell_type": "code",
   "execution_count": 40,
   "metadata": {},
   "outputs": [
    {
     "data": {
      "text/plain": [
       "False"
      ]
     },
     "execution_count": 40,
     "metadata": {},
     "output_type": "execute_result"
    }
   ],
   "source": [
    "d1={\"k1\":\"value1\",\"k2\":\"value2\"}\n",
    "d1[\"k2\"] # Accessing the value with key \"k2\"\n",
    "d1.keys() # returns list of all keys\n",
    "d1.values()# returns all the values\n",
    "d1.items()#returns list of tuples of keys and values\n",
    "d1[\"k3\"]=\"value3\"  #adding an element to the dictionaies\n",
    "\n",
    "d1[\"k3\"]=\"value4\" #updating an elements\n",
    "d1.pop(\"k3\") # Removing an rlement\n",
    "\"k3\"  in d1\n",
    "\n"
   ]
  },
  {
   "cell_type": "markdown",
   "metadata": {},
   "source": [
    "\n",
    "# Contacts Applicaion\n",
    "- Add Contach\n",
    "- Searching\n",
    "- List all cintact\n",
    "- Modify Concact\n",
    "- Remove contacts\n",
    "- Import contact"
   ]
  },
  {
   "cell_type": "code",
   "execution_count": 89,
   "metadata": {},
   "outputs": [
    {
     "name": "stdout",
     "output_type": "stream",
     "text": [
      "Contact name1 Added\n"
     ]
    }
   ],
   "source": [
    "contacts={}\n",
    "\n",
    "\n",
    "def addContact(name,phone):\n",
    "    if name not in contacts:\n",
    "        contacts[name]=phone\n",
    "        print(\"Contact %s Added\" %name )\n",
    "    else :\n",
    "        print(\"Contact %s already exists\" % name  )\n",
    "    return \n",
    "\n",
    "addContact(\"name1\",12344555)  "
   ]
  },
  {
   "cell_type": "code",
   "execution_count": 53,
   "metadata": {},
   "outputs": [
    {
     "name": "stdout",
     "output_type": "stream",
     "text": [
      "name1 : 12344555\n"
     ]
    }
   ],
   "source": [
    "def searchcontacts(name):\n",
    "    if name in contacts:\n",
    "        print(name,\":\",contacts[name])\n",
    "    else:\n",
    "        print(\"%s Does not exists\" % name)\n",
    "    return \n",
    "searchcontacts(\"name1\")"
   ]
  },
  {
   "cell_type": "code",
   "execution_count": 59,
   "metadata": {},
   "outputs": [
    {
     "name": "stdout",
     "output_type": "stream",
     "text": [
      "phone number is modifyed successfully\n"
     ]
    }
   ],
   "source": [
    "def modifycontact(name,newphone):\n",
    "    if name not in contacts:\n",
    "        print(\"name is not exists\")\n",
    "    else:\n",
    "        contacts[name]=newphone\n",
    "        print(\"phone number is modifyed successfully\")\n",
    "    return\n",
    "modifycontact(\"name1\",8347867896)"
   ]
  },
  {
   "cell_type": "code",
   "execution_count": 56,
   "metadata": {},
   "outputs": [
    {
     "name": "stdout",
     "output_type": "stream",
     "text": [
      "2 contacts are added sucessfully\n"
     ]
    }
   ],
   "source": [
    "# New contacts is given as a dictionary\n",
    "#Merge new contacts with existing contacts\n",
    "def importcontacts(newcontacts):\n",
    "    contacts.update(newContacts)\n",
    "    print(len(newContacts.keys()),\"contacts are added sucessfully\")\n",
    "    return\n",
    "newContacts={\"name2\":901010,\"name3\":8549809}\n",
    "importcontacts(newContacts)    "
   ]
  },
  {
   "cell_type": "code",
   "execution_count": 67,
   "metadata": {},
   "outputs": [
    {
     "name": "stdout",
     "output_type": "stream",
     "text": [
      "Contact mandava already exists\n"
     ]
    }
   ],
   "source": [
    "addContact(\"mandava\",549857)\n"
   ]
  },
  {
   "cell_type": "code",
   "execution_count": 94,
   "metadata": {},
   "outputs": [
    {
     "name": "stdout",
     "output_type": "stream",
     "text": [
      "Contact lak already exists\n"
     ]
    }
   ],
   "source": [
    "addContact(\"lak\",7493376587)"
   ]
  },
  {
   "cell_type": "code",
   "execution_count": 92,
   "metadata": {},
   "outputs": [
    {
     "name": "stdout",
     "output_type": "stream",
     "text": [
      "Contact mandava already exists\n"
     ]
    }
   ],
   "source": [
    "addContact(\"mandava\",12344555)"
   ]
  },
  {
   "cell_type": "code",
   "execution_count": 90,
   "metadata": {},
   "outputs": [
    {
     "name": "stdout",
     "output_type": "stream",
     "text": [
      "Contact name1 already exists\n"
     ]
    }
   ],
   "source": [
    "addContact(\"name1\",12344555)"
   ]
  },
  {
   "cell_type": "code",
   "execution_count": 98,
   "metadata": {},
   "outputs": [
    {
     "data": {
      "text/plain": [
       "dict_items([('name1', 12344555), ('mandava', 12344555)])"
      ]
     },
     "execution_count": 98,
     "metadata": {},
     "output_type": "execute_result"
    }
   ],
   "source": [
    "contacts.items()"
   ]
  },
  {
   "cell_type": "code",
   "execution_count": 97,
   "metadata": {},
   "outputs": [
    {
     "data": {
      "text/plain": [
       "7493376587"
      ]
     },
     "execution_count": 97,
     "metadata": {},
     "output_type": "execute_result"
    }
   ],
   "source": [
    "contacts.pop(\"lak\")"
   ]
  },
  {
   "cell_type": "code",
   "execution_count": 99,
   "metadata": {},
   "outputs": [
    {
     "name": "stdout",
     "output_type": "stream",
     "text": [
      "name1 : 12344555\n"
     ]
    }
   ],
   "source": [
    "searchcontacts(\"name1\")"
   ]
  },
  {
   "cell_type": "markdown",
   "metadata": {},
   "source": [
    "### Packages and Modules\n",
    "**Package**--> Collection of Modules(Python files .py)\n",
    "subpackage-->\n",
    "\n",
    "**module-**->A single python file containing functions\n",
    "\n",
    "Package-->Subpackages-->Modules--> Functions"
   ]
  },
  {
   "cell_type": "code",
   "execution_count": 105,
   "metadata": {},
   "outputs": [
    {
     "data": {
      "text/plain": [
       "123"
      ]
     },
     "execution_count": 105,
     "metadata": {},
     "output_type": "execute_result"
    }
   ],
   "source": [
    "from math import floor as fl\n",
    "\n",
    "fl(123.4843)\n",
    "\n",
    "\n",
    "#math.pi"
   ]
  },
  {
   "cell_type": "code",
   "execution_count": 110,
   "metadata": {},
   "outputs": [
    {
     "name": "stdout",
     "output_type": "stream",
     "text": [
      "6 22 22 80 56 86 38 80 19 99 "
     ]
    }
   ],
   "source": [
    "#Function to generate N random numbers\n",
    "import random\n",
    "def generateNRandomNumbers(n,lb,ub):\n",
    "    for i in range(0,n):\n",
    "        print(random.randint(lb,ub),end=\" \")\n",
    "generateNRandomNumbers(10,0,100)"
   ]
  },
  {
   "cell_type": "code",
   "execution_count": 8,
   "metadata": {},
   "outputs": [
    {
     "data": {
      "text/plain": [
       "True"
      ]
     },
     "execution_count": 8,
     "metadata": {},
     "output_type": "execute_result"
    }
   ],
   "source": [
    "from Packages.numerical import isprime\n",
    "isprime(79)"
   ]
  },
  {
   "cell_type": "code",
   "execution_count": null,
   "metadata": {},
   "outputs": [],
   "source": []
  },
  {
   "cell_type": "code",
   "execution_count": null,
   "metadata": {},
   "outputs": [],
   "source": []
  },
  {
   "cell_type": "code",
   "execution_count": null,
   "metadata": {},
   "outputs": [],
   "source": []
  }
 ],
 "metadata": {
  "kernelspec": {
   "display_name": "Python 3",
   "language": "python",
   "name": "python3"
  },
  "language_info": {
   "codemirror_mode": {
    "name": "ipython",
    "version": 3
   },
   "file_extension": ".py",
   "mimetype": "text/x-python",
   "name": "python",
   "nbconvert_exporter": "python",
   "pygments_lexer": "ipython3",
   "version": "3.7.3"
  }
 },
 "nbformat": 4,
 "nbformat_minor": 2
}
