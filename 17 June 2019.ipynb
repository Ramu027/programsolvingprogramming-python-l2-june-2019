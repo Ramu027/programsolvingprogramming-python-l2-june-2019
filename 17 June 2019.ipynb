{
 "cells": [
  {
   "cell_type": "code",
   "execution_count": 1,
   "metadata": {},
   "outputs": [
    {
     "name": "stdout",
     "output_type": "stream",
     "text": [
      "abaaa\n",
      "6\n"
     ]
    }
   ],
   "source": [
    "# Char sum\n",
    "s = input()\n",
    "s= list(s)\n",
    "sum =0\n",
    "for i in s:\n",
    "    sum +=ord(i)-(ord('a')-1)\n",
    "print(sum)"
   ]
  },
  {
   "cell_type": "code",
   "execution_count": 5,
   "metadata": {},
   "outputs": [
    {
     "data": {
      "text/plain": [
       "'Abc'"
      ]
     },
     "execution_count": 5,
     "metadata": {},
     "output_type": "execute_result"
    }
   ],
   "source": [
    "# toggle string\n",
    "#s=input()\n",
    "def togglestring(s):\n",
    "    s=list(s)\n",
    "    t=[]\n",
    "    for c in s:\n",
    "        if c.islower():\n",
    "            t.append(c.upper())\n",
    "        else:\n",
    "            t.append(c.lower())\n",
    "    return \"\".join(t)\n",
    "togglestring(\"aBC\")"
   ]
  },
  {
   "cell_type": "code",
   "execution_count": 3,
   "metadata": {},
   "outputs": [
    {
     "name": "stdout",
     "output_type": "stream",
     "text": [
      "2\n",
      "1 44 2 14\n",
      "0 30\n",
      "2 42 8 43\n",
      "6 1\n"
     ]
    }
   ],
   "source": [
    "#Duration\n",
    "n = int(input())\n",
    "for i in range (1,n+1):\n",
    "    w = input().split()\n",
    "    x = (w[0]), (w[2])\n",
    "    y = (w[1]), (w[3])\n",
    "    dh = int(x[1])-int(x[0])-1\n",
    "    dm = int(y[1])+60-int(y[0])\n",
    "    if dm>=60:\n",
    "        z=dm//60\n",
    "        dh+=z\n",
    "        b=dm%60\n",
    "        dm=b\n",
    "        print(dh, dm)\n",
    "    else:\n",
    "        print(dh, dm)"
   ]
  },
  {
   "cell_type": "code",
   "execution_count": null,
   "metadata": {},
   "outputs": [
    {
     "name": "stdout",
     "output_type": "stream",
     "text": [
      "3\n",
      "sumit mitsu\n",
      "YES\n",
      "abhi hibb\n",
      "NO\n"
     ]
    }
   ],
   "source": [
    "# Two Strings\n",
    "n=int(input())\n",
    "for i in range(n):\n",
    "    d=list(input().split(' '))\n",
    "\n",
    "    d1=list(d[0])\n",
    "    d1.sort()\n",
    "\n",
    "    d2=list(d[1])\n",
    "    d2.sort()\n",
    "\n",
    "    flag=1\n",
    "    if(len(d1)==len(d2)):\n",
    "        for u in range(len(d1)):\n",
    "            if d1[u] !=d2[u]:\n",
    "                flag=0\n",
    "                break\n",
    "\n",
    "\n",
    "        if(flag==0):\n",
    "            print('NO')\n",
    "        else:\n",
    "            print('YES')\n",
    "    else:\n",
    "        print('NO')"
   ]
  },
  {
   "cell_type": "code",
   "execution_count": 10,
   "metadata": {},
   "outputs": [
    {
     "name": "stdout",
     "output_type": "stream",
     "text": [
      "2\n",
      "1 44 2 14 \n",
      "0 30\n",
      "2 42 8 23\n",
      "5 41\n"
     ]
    }
   ],
   "source": [
    "#Duration example1\n",
    "#s=\"1 44 2 43\"\n",
    "def minuterdifference(s):\n",
    "    s=s.split()\n",
    "    sh=int(s[0])\n",
    "    sm=int(s[1])\n",
    "    eh=int(s[2])\n",
    "    em=int(s[3])\n",
    "    startminutes=(sh*60)+sm\n",
    "    endminutes=(eh*60)+em\n",
    "    return endminutes-startminutes\n",
    "def outputtimeformat(minutes):\n",
    "    hh=minutes//60\n",
    "    mm=minutes%60\n",
    "    print(hh,mm)\n",
    "    return\n",
    "\n",
    "n=int(input())\n",
    "for i in range(0,n):\n",
    "    s=input()\n",
    "    minutes=minuterdifference(s)\n",
    "    outputtimeformat(minutes)\n",
    "    \n",
    "    "
   ]
  },
  {
   "cell_type": "markdown",
   "metadata": {},
   "source": [
    "### Problem with Numbers\n",
    "\n",
    "Line 1: array sine(n), no of queries(q)\n",
    "Line 2: n arrey elements\n",
    "next q lines "
   ]
  },
  {
   "cell_type": "code",
   "execution_count": 6,
   "metadata": {},
   "outputs": [
    {
     "name": "stdout",
     "output_type": "stream",
     "text": [
      "5 3\n",
      "1 2 3 4 5\n",
      "1 3\n",
      "2\n",
      "2 4\n",
      "3\n",
      "2 5\n",
      "3\n"
     ]
    }
   ],
   "source": [
    "def playwithnum(b):\n",
    "    for i in range (0,b):\n",
    "        d,e=map(int,input().split())\n",
    "        if(d==1):\n",
    "            print((z[e-1])//(e-d+1))\n",
    "        else:\n",
    "            print((z[e-1]-z[d-2])//(e-d+1))\n",
    "    return \n",
    "a,b=map(int,input().split())\n",
    "c=list(map(int,input().split()))\n",
    "z=[]\n",
    "ans=0\n",
    "for i in range (0,a):\n",
    "    ans+=c[i]\n",
    "    z.append(ans)\n",
    "playwithnum(b)\n"
   ]
  },
  {
   "cell_type": "code",
   "execution_count": 11,
   "metadata": {},
   "outputs": [
    {
     "name": "stdout",
     "output_type": "stream",
     "text": [
      "47654bvsggfjb\n",
      "5 8\n"
     ]
    }
   ],
   "source": [
    "#Digits and characters count\n",
    "def countingofdigits(s):\n",
    "    count=0\n",
    "    for i in s:\n",
    "        if i.isdigit():\n",
    "            count+=1\n",
    "    return count\n",
    "def countofalpha(s):\n",
    "    count=0\n",
    "    for i in s:\n",
    "        if i.isalpha():\n",
    "            count+=1\n",
    "    return count\n",
    "s=input()\n",
    "print(countingofdigits(s),countofalpha(s))"
   ]
  },
  {
   "cell_type": "code",
   "execution_count": 23,
   "metadata": {},
   "outputs": [
    {
     "data": {
      "text/plain": [
       "11"
      ]
     },
     "execution_count": 23,
     "metadata": {},
     "output_type": "execute_result"
    }
   ],
   "source": [
    "# heighest reaminder\n",
    "def reaminder(n):\n",
    "    ls=[]\n",
    "    res=[]\n",
    "    for i in range(n,1,-1):\n",
    "        a=n%i\n",
    "        ls.append(a)\n",
    "        res.append(i)\n",
    "        \n",
    "    return res[max(ls)]\n",
    "reaminder(20)\n",
    "#"
   ]
  },
  {
   "cell_type": "code",
   "execution_count": 2,
   "metadata": {},
   "outputs": [
    {
     "name": "stdout",
     "output_type": "stream",
     "text": [
      "5\n",
      "2\n",
      "50\n",
      "NO\n",
      "100\n",
      "NO\n"
     ]
    }
   ],
   "source": [
    "# prime Factors in a number\n",
    "\n",
    "def factors(n):\n",
    "    \n",
    "    count=0\n",
    "    for i in range(1,n):\n",
    "        if n%i==0:\n",
    "            if isprime(i):\n",
    "                count=count+1\n",
    "    return count\n",
    "\n",
    "\n",
    "def isprime(n):\n",
    "    if n==1:\n",
    "        return False\n",
    "    for i in range(2,n):\n",
    "        if n%i==0:\n",
    "            return False\n",
    "        \n",
    "    return True\n",
    "def noofprimefactors(n):\n",
    "    count=0\n",
    "    for i in range(1,n):\n",
    "        if n%i==0:\n",
    "            if isprime(i):\n",
    "                count+=1\n",
    "    return count\n",
    "\n",
    "#n=int(input())\n",
    "p=int(input())\n",
    "q=int(input())\n",
    "for i in range(0,q):\n",
    "    a=int(input())\n",
    "    if noofprimefactors(a)==p:\n",
    "        print(\"YES\")\n",
    "    else:\n",
    "        print(\"NO\")"
   ]
  },
  {
   "cell_type": "code",
   "execution_count": null,
   "metadata": {},
   "outputs": [],
   "source": [
    "#Perfect number\n",
    "def isperfect(n):\n",
    "    sum=0\n",
    "    for i in range(1,n):\n",
    "        if n%i==0:\n",
    "            sum+=i\n",
    "    if n==sum:\n",
    "        print(\"YES\")\n",
    "    else:\n",
    "        print(\"NO\")\n",
    "\n",
    "t=int(input())        \n",
    "for i in range(0,t):\n",
    "    n=int(input())\n",
    "    isperfect(n)\n",
    "\n",
    "    "
   ]
  },
  {
   "cell_type": "code",
   "execution_count": null,
   "metadata": {},
   "outputs": [],
   "source": []
  }
 ],
 "metadata": {
  "kernelspec": {
   "display_name": "Python 3",
   "language": "python",
   "name": "python3"
  },
  "language_info": {
   "codemirror_mode": {
    "name": "ipython",
    "version": 3
   },
   "file_extension": ".py",
   "mimetype": "text/x-python",
   "name": "python",
   "nbconvert_exporter": "python",
   "pygments_lexer": "ipython3",
   "version": "3.7.3"
  }
 },
 "nbformat": 4,
 "nbformat_minor": 2
}
