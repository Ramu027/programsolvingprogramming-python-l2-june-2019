{
 "cells": [
  {
   "cell_type": "code",
   "execution_count": null,
   "metadata": {},
   "outputs": [],
   "source": [
    "## Problem Solving and Programming in Python-Day 4\n",
    "\n",
    "###"
   ]
  },
  {
   "cell_type": "markdown",
   "metadata": {},
   "source": [
    "# Python Data Structures\n",
    "\n",
    "### lists"
   ]
  },
  {
   "cell_type": "code",
   "execution_count": 53,
   "metadata": {},
   "outputs": [
    {
     "data": {
      "text/plain": [
       "3"
      ]
     },
     "execution_count": 53,
     "metadata": {},
     "output_type": "execute_result"
    }
   ],
   "source": [
    "li=[123,987,564]\n",
    "\n",
    "li# Access the entire list\n",
    "li[1] #Access an  element with index in a list\n",
    "li[1:] #Access all  element from second to last in  a list\n",
    "li[::-1]\n",
    "li=li[::-1] #Reversing and reassigning to original list\n",
    "li=li[::-1]\n",
    "li\n",
    "li[::2]#Accessing even index elements\n",
    "li[1::2]\n",
    "\n",
    "# Lists can be accessed, manipulated in two different ways \n",
    "     #Direct Referencing - Accessing through [index]\n",
    "    #InDirect Referencing - Through Functions\n",
    "li.append(345) # adding an element to the end of the list\n",
    "li\n",
    "li.insert(1,234)    # adding an element at perticulal index of the list\n",
    "li.sort() #Sort elements in ascending order\n",
    "li.pop() #Removing the last element in a list\n",
    "li.pop(1)  #Remove an element at a perticular index\n",
    "li\n",
    "\n",
    "li2=[234,456,678]\n",
    "li.extend(li2)#Marge list 2 into list 1\n",
    "li\n",
    "\n",
    "sum(li) #sum of elements in a list\n",
    "max(li) # Maximum number in the list\n",
    "len(li) # Number of elements in a list\n",
    "sum(li)/len(li) # average of list elements\n",
    "sum(li[::2])/len(li[::2])# Average of all even alternate elements\n",
    "sum(li[1::2])/len(li[1::2]) # Average of all even alternate elements\n",
    "li.index(234)\n"
   ]
  },
  {
   "cell_type": "code",
   "execution_count": 43,
   "metadata": {},
   "outputs": [
    {
     "data": {
      "text/plain": [
       "[123, 234, 345, 456, 564, 678]"
      ]
     },
     "execution_count": 43,
     "metadata": {},
     "output_type": "execute_result"
    }
   ],
   "source": [
    "#Function to identify the second largest elements in a unique list\n",
    "def secondLargest(li):\n",
    "    li.sort()\n",
    "    return li[-2]\n",
    "#secondLargest([123,345,567])\n",
    "# Function that returns the nth largest    \n",
    "\n",
    "def genericLargest(li,n):\n",
    "    li.sort()\n",
    "    return li[-n]\n",
    "secondLargest(li)\n",
    "genericLargest(li,3)\n",
    "li"
   ]
  },
  {
   "cell_type": "code",
   "execution_count": 58,
   "metadata": {},
   "outputs": [
    {
     "data": {
      "text/plain": [
       "-1"
      ]
     },
     "execution_count": 58,
     "metadata": {},
     "output_type": "execute_result"
    }
   ],
   "source": [
    "# fumction to search for data in a list\n",
    "#Search for the key in the list and return the index if data exist.return -1 if data is not in list\n",
    "def linearsearch(li,key):\n",
    "    for index in range(0,len(li)):\n",
    "        if li[index]==key:\n",
    "            return index\n",
    "    return -1\n",
    "linearsearch(li,234)   \n",
    "def linearsearch2(li,key):\n",
    "    for element in li:\n",
    "        if element==key:\n",
    "            return li.index(element)\n",
    "    return -1\n",
    "linearsearch2(li,234)\n",
    "def linearsearch3(li,key):\n",
    "    if key in li:\n",
    "        return li.index(key)\n",
    "    return -1\n",
    "\n",
    "linearsearch3(li,4)   "
   ]
  },
  {
   "cell_type": "code",
   "execution_count": 68,
   "metadata": {},
   "outputs": [
    {
     "data": {
      "text/plain": [
       "1"
      ]
     },
     "execution_count": 68,
     "metadata": {},
     "output_type": "execute_result"
    }
   ],
   "source": [
    "# Function to count the occurances of a character in a string\n",
    "# \"python programming\",m -> 2\n",
    "def countcharoccurances(s,c):\n",
    "    count=0\n",
    "    for ch in s:\n",
    "        if ch==c:\n",
    "            count+=1\n",
    "        \n",
    "    return count\n",
    "def countcharoccurances2(s,c):\n",
    "    return s.count(c)\n",
    "countcharoccurances2(\"pyython programminggggg\",\"yy\")\n",
    "#function to find the number of occrances of "
   ]
  },
  {
   "cell_type": "code",
   "execution_count": 74,
   "metadata": {},
   "outputs": [
    {
     "data": {
      "text/plain": [
       "[1, 2, 3, 4, 5, 6]"
      ]
     },
     "execution_count": 74,
     "metadata": {},
     "output_type": "execute_result"
    }
   ],
   "source": [
    "s=\"1 2 3 4 5 6\"\n",
    "li=s.split()\n",
    "numberlist=[]\n",
    "for i in li:\n",
    "    numberlist.append(int(i))\n",
    "    \n",
    "numberlist\n",
    "    "
   ]
  },
  {
   "cell_type": "code",
   "execution_count": 76,
   "metadata": {},
   "outputs": [
    {
     "name": "stdout",
     "output_type": "stream",
     "text": [
      "3\n"
     ]
    },
    {
     "data": {
      "text/plain": [
       "14"
      ]
     },
     "execution_count": 76,
     "metadata": {},
     "output_type": "execute_result"
    }
   ],
   "source": [
    "# sum of squares \n",
    "N=int(input())\n",
    "def sumSquaresN(N):\n",
    "    sum=0\n",
    "    for i in range(1,N+1):\n",
    "        sum+=i*i\n",
    "    return sum\n",
    "sumSquaresN(N)"
   ]
  },
  {
   "cell_type": "code",
   "execution_count": null,
   "metadata": {},
   "outputs": [
    {
     "name": "stdout",
     "output_type": "stream",
     "text": [
      "3\n"
     ]
    }
   ],
   "source": [
    "#10 marks\n",
    "n=int(input())\n",
    "s=input()\n",
    "s=s.split()\n",
    "#\"1 2 3 4 5\"\n",
    "li=[]\n",
    "for i in s:\n",
    "    li.append(int(i))\n",
    "\n",
    "def closetozero(li):\n",
    "    n1=[]\n",
    "    for i in li:\n",
    "        if i<0:\n",
    "            n1.append(i)\n",
    "    p1=[]\n",
    "    for i in li:\n",
    "        if i>=0:\n",
    "            p1.append(i)\n",
    "    nc=max(n1)\n",
    "    pc=min(p1)\n",
    "    \n",
    "    if abs(nc)==pc:\n",
    "        return pc\n",
    "    elif abs(nc)<pc:\n",
    "        return abs(nc)\n",
    "    else:\n",
    "        return pc\n",
    "closetozero(li)"
   ]
  },
  {
   "cell_type": "code",
   "execution_count": null,
   "metadata": {},
   "outputs": [],
   "source": [
    "n=int(input())\n",
    "s=input()\n",
    "s=s.split()\n",
    "li=[]\n"
   ]
  }
 ],
 "metadata": {
  "kernelspec": {
   "display_name": "Python 3",
   "language": "python",
   "name": "python3"
  },
  "language_info": {
   "codemirror_mode": {
    "name": "ipython",
    "version": 3
   },
   "file_extension": ".py",
   "mimetype": "text/x-python",
   "name": "python",
   "nbconvert_exporter": "python",
   "pygments_lexer": "ipython3",
   "version": "3.7.3"
  }
 },
 "nbformat": 4,
 "nbformat_minor": 2
}
