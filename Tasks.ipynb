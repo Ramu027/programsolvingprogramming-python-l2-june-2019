{
 "cells": [
  {
   "cell_type": "code",
   "execution_count": 2,
   "metadata": {},
   "outputs": [
    {
     "name": "stdout",
     "output_type": "stream",
     "text": [
      "ramu,9010103952\n",
      "mandava,9133533090\n"
     ]
    }
   ],
   "source": [
    "#Contacts Application\n",
    "    #Add,Search,List,Modify Delete contacts\n",
    "    \n",
    "def Addcontact(filename):\n",
    "    with open(filename,'r') as f:\n",
    "        filedata=f.read()\n",
    "        filedata.split(' ')\n",
    "        print(filedata)\n",
    "            \n",
    "filename='DataFiles/contacts.txt'\n",
    "Addcontact(filename)"
   ]
  },
  {
   "cell_type": "code",
   "execution_count": null,
   "metadata": {},
   "outputs": [],
   "source": [
    "def readWords(filename):\n",
    "    with open(filename,'r') as f:\n",
    "        filedata=f.read()\n",
    "        words=filedata.split('\\n')\n",
    "    return words\n",
    "\n",
    "s=readWords('DataFiles/replacefile.txt')\n",
    "print(s)"
   ]
  },
  {
   "cell_type": "code",
   "execution_count": null,
   "metadata": {},
   "outputs": [],
   "source": [
    "def replaceword(s,wn,wr):\n",
    "    with open(filename,'w') as f:\n",
    "        string='  '.join(s)\n",
    "        \n",
    "        string=string.replace(wn,wr)\n",
    "        #print(string)\n",
    "        for line in string.split():\n",
    "            f.write(string+'\\n')\n",
    "        \n",
    "        print(string.split())\n",
    "    return string.split(\"  \")\n",
    "\n",
    "filename='DataFiles/replacefile.txt'\n",
    "s=readWords(filename)  \n",
    "wn='ongole'\n",
    "wr='pondur'\n",
    "(replaceword(s,wn,wr))     "
   ]
  },
  {
   "cell_type": "code",
   "execution_count": null,
   "metadata": {},
   "outputs": [],
   "source": [
    "# Function to Generate nmarksData for n students\n",
    "from random import randint\n",
    "def generateMarks(n,lb,ub):\n",
    "    with open ('DataFiles/marks.txt','w') as f:\n",
    "        for i in range(0,n):\n",
    "            r=randint(lb,ub)\n",
    "            f.write(str(r)+'\\n')\n",
    "generateMarks(1000,0,100)    "
   ]
  },
  {
   "cell_type": "code",
   "execution_count": 3,
   "metadata": {},
   "outputs": [
    {
     "name": "stdout",
     "output_type": "stream",
     "text": [
      "49.546\n"
     ]
    }
   ],
   "source": [
    "# Class Average\n",
    "def classAvg(filename):\n",
    "    with open (filename,'r') as f:\n",
    "        data=f.read()\n",
    "        data=data.split('\\n')\n",
    "        li=[]\n",
    "        #print(data)\n",
    "        count=0\n",
    "        for i in data:\n",
    "            li.append(int(i))\n",
    "            count+=1\n",
    "        print(sum(li)/count)\n",
    "        \n",
    "classAvg('DataFiles/marks.txt')   \n"
   ]
  },
  {
   "cell_type": "code",
   "execution_count": 4,
   "metadata": {},
   "outputs": [
    {
     "name": "stdout",
     "output_type": "stream",
     "text": [
      "59.5 %\n"
     ]
    }
   ],
   "source": [
    "# Students passed %\n",
    "def passedstd(filename):\n",
    "    with open (filename,'r') as f:\n",
    "        data=f.read()\n",
    "        data=data.split('\\n')\n",
    "        li=[]\n",
    "        mi=[]\n",
    "        #print(data)\n",
    "        count=0\n",
    "        for i in data:\n",
    "            li.append(int(i))\n",
    "        for marks in li:\n",
    "             if marks>40:\n",
    "                    mi.append(marks)\n",
    "                    count+=1\n",
    "    print((count/len(li))*100,'%')\n",
    "filename='DataFiles/marks.txt'    \n",
    "passedstd(filename)                    "
   ]
  },
  {
   "cell_type": "code",
   "execution_count": 5,
   "metadata": {},
   "outputs": [
    {
     "name": "stdout",
     "output_type": "stream",
     "text": [
      "40.5 %\n"
     ]
    }
   ],
   "source": [
    "# % of Students Failed\n",
    "def failper(filename):\n",
    "    with open (filename,'r') as f:\n",
    "        data=f.read()\n",
    "        data=data.split('\\n')\n",
    "        li=[]\n",
    "        mi=[]\n",
    "        #print(data)\n",
    "        count=0\n",
    "        for i in data:\n",
    "            li.append(int(i))\n",
    "        for marks in li:\n",
    "             if marks<=40:\n",
    "                    mi.append(marks)\n",
    "                    count+=1\n",
    "    print((count/len(li))*100,\"%\")\n",
    "filename='DataFiles/marks.txt'    \n",
    "failper(filename)         "
   ]
  },
  {
   "cell_type": "code",
   "execution_count": 6,
   "metadata": {},
   "outputs": [
    {
     "name": "stdout",
     "output_type": "stream",
     "text": [
      "20.1 %\n"
     ]
    }
   ],
   "source": [
    " # % of Students with distinction\n",
    "def Distinction(filename):\n",
    "    with open (filename,'r') as f:\n",
    "        data=f.read()\n",
    "        data=data.split('\\n')\n",
    "        li=[]\n",
    "        mi=[]\n",
    "        #print(data)\n",
    "        count=0\n",
    "        for i in data:\n",
    "            li.append(int(i))\n",
    "        for marks in li:\n",
    "             if marks>80:\n",
    "                    mi.append(marks)\n",
    "                    count+=1\n",
    "    print((count/len(li))*100,\"%\")\n",
    "filename='DataFiles/marks.txt'    \n",
    "Distinction(filename)        "
   ]
  },
  {
   "cell_type": "code",
   "execution_count": 7,
   "metadata": {},
   "outputs": [
    {
     "name": "stdout",
     "output_type": "stream",
     "text": [
      "Maximum marks getting std 9\n"
     ]
    }
   ],
   "source": [
    "# Highest marks Frequency\n",
    "def highestmarks(filename):\n",
    "    with open (filename,'r') as f:\n",
    "        data=f.read()\n",
    "        data=data.split('\\n')\n",
    "        li=[]\n",
    "        mi=[]\n",
    "        #print(data)\n",
    "        count=0\n",
    "        for i in data:\n",
    "            li.append(int(i))\n",
    "        for i in li:\n",
    "            if i==max(li):\n",
    "                count+=1\n",
    "    print(\"Maximum marks getting std\",count)\n",
    "filename='DataFiles/marks.txt'\n",
    "highestmarks(filename)"
   ]
  },
  {
   "cell_type": "code",
   "execution_count": null,
   "metadata": {},
   "outputs": [],
   "source": []
  },
  {
   "cell_type": "code",
   "execution_count": null,
   "metadata": {},
   "outputs": [],
   "source": []
  },
  {
   "cell_type": "code",
   "execution_count": null,
   "metadata": {},
   "outputs": [],
   "source": []
  }
 ],
 "metadata": {
  "kernelspec": {
   "display_name": "Python 3",
   "language": "python",
   "name": "python3"
  },
  "language_info": {
   "codemirror_mode": {
    "name": "ipython",
    "version": 3
   },
   "file_extension": ".py",
   "mimetype": "text/x-python",
   "name": "python",
   "nbconvert_exporter": "python",
   "pygments_lexer": "ipython3",
   "version": "3.7.3"
  }
 },
 "nbformat": 4,
 "nbformat_minor": 2
}
