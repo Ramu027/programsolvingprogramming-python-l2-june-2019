{
 "cells": [
  {
   "cell_type": "code",
   "execution_count": 1,
   "metadata": {},
   "outputs": [
    {
     "name": "stdout",
     "output_type": "stream",
     "text": [
      "abaaa\n",
      "6\n"
     ]
    }
   ],
   "source": [
    "# Char sum\n",
    "s = input()\n",
    "s= list(s)\n",
    "sum =0\n",
    "for i in s:\n",
    "    sum +=ord(i)-(ord('a')-1)\n",
    "print(sum)"
   ]
  },
  {
   "cell_type": "code",
   "execution_count": 2,
   "metadata": {},
   "outputs": [
    {
     "name": "stdout",
     "output_type": "stream",
     "text": [
      "\"RaMu\"\n",
      "\"rAmU\"\n"
     ]
    }
   ],
   "source": [
    "# toggle string\n",
    "s=input()\n",
    "print(s.swapcase())"
   ]
  },
  {
   "cell_type": "code",
   "execution_count": 3,
   "metadata": {},
   "outputs": [
    {
     "name": "stdout",
     "output_type": "stream",
     "text": [
      "2\n",
      "1 44 2 14\n",
      "0 30\n",
      "2 42 8 43\n",
      "6 1\n"
     ]
    }
   ],
   "source": [
    "#Duration\n",
    "n = int(input())\n",
    "for i in range (1,n+1):\n",
    "    r = input().split()\n",
    "    x = (r[0]), (r[2])\n",
    "    y = (r[1]), (r[3])\n",
    "    dh = int(x[1])-int(x[0])-1\n",
    "    dm = int(y[1])+60-int(y[0])\n",
    "    if dm>=60:\n",
    "        z=dm//60\n",
    "        dh+=z\n",
    "        b=dm%60\n",
    "        dm=b\n",
    "        print(dh, dm)\n",
    "    else:\n",
    "        print(dh, dm)"
   ]
  },
  {
   "cell_type": "code",
   "execution_count": 4,
   "metadata": {},
   "outputs": [
    {
     "name": "stdout",
     "output_type": "stream",
     "text": [
      "5 3\n",
      "1 2 3 4 5\n",
      "1 3\n",
      "2\n",
      "2 4\n",
      "3\n",
      "2 5\n",
      "3\n"
     ]
    }
   ],
   "source": [
    "#Plat with nunmers\n",
    "a,b=map(int,input().split())\n",
    "c=list(map(int,input().split()))\n",
    "z=[]\n",
    "ans=0\n",
    "for i in range (0,a):\n",
    "    ans+=c[i]\n",
    "    z.append(ans)\n",
    "#print(z)\n",
    "for i in range (0,b):\n",
    "    d,e=map(int,input().split())\n",
    "    if(d==1):\n",
    "        print((z[e-1])//(e-d+1))\n",
    "    else:\n",
    "        print((z[e-1]-z[d-2])//(e-d+1))"
   ]
  },
  {
   "cell_type": "code",
   "execution_count": null,
   "metadata": {},
   "outputs": [
    {
     "name": "stdout",
     "output_type": "stream",
     "text": [
      "3\n",
      "sumit mitsu\n",
      "YES\n",
      "abhi hibb\n",
      "NO\n"
     ]
    }
   ],
   "source": [
    "# Two Strings\n",
    "n=int(input())\n",
    "for i in range(n):\n",
    "    d=list(input().split(' '))\n",
    "\n",
    "    d1=list(d[0])\n",
    "    d1.sort()\n",
    "\n",
    "    d2=list(d[1])\n",
    "    d2.sort()\n",
    "\n",
    "    flag=1\n",
    "    if(len(d1)==len(d2)):\n",
    "        for u in range(len(d1)):\n",
    "            if d1[u] !=d2[u]:\n",
    "                flag=0\n",
    "                break\n",
    "\n",
    "\n",
    "        if(flag==0):\n",
    "            print('NO')\n",
    "        else:\n",
    "            print('YES')\n",
    "    else:\n",
    "        print('NO')"
   ]
  },
  {
   "cell_type": "code",
   "execution_count": null,
   "metadata": {},
   "outputs": [],
   "source": []
  }
 ],
 "metadata": {
  "kernelspec": {
   "display_name": "Python 3",
   "language": "python",
   "name": "python3"
  },
  "language_info": {
   "codemirror_mode": {
    "name": "ipython",
    "version": 3
   },
   "file_extension": ".py",
   "mimetype": "text/x-python",
   "name": "python",
   "nbconvert_exporter": "python",
   "pygments_lexer": "ipython3",
   "version": "3.7.3"
  }
 },
 "nbformat": 4,
 "nbformat_minor": 2
}
