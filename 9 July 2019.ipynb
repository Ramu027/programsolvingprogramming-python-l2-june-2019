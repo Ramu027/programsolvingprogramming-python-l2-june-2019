{
 "cells": [
  {
   "cell_type": "code",
   "execution_count": null,
   "metadata": {},
   "outputs": [],
   "source": [
    "# Function to generate all Perfect numbers in a given range\n",
    "def factors(n):\n",
    "    li=[]\n",
    "    for i in range(1,n):\n",
    "        if n%i==0:\n",
    "            li.append(i)\n",
    "    return li\n",
    "#factors(6)\n",
    "def perfectnumbers(lb,ub):\n",
    "    for i in range(lb,ub+1):\n",
    "        a=factors(i)\n",
    "        if sum(a)==i:\n",
    "            print(i)\n",
    "    \n",
    "    return\n",
    "perfectnumbers(1,2000)"
   ]
  },
  {
   "cell_type": "code",
   "execution_count": null,
   "metadata": {},
   "outputs": [],
   "source": [
    "# Function to generate N odd Armstrong numbers\n",
    "def IsarmstrongNumber(n):\n",
    "    sum=0\n",
    "    temp = n \n",
    "    k=len(str(n))\n",
    "    #print(k)\n",
    "    while temp > 0:  \n",
    "        digit = temp % 10  \n",
    "        sum += digit ** k  \n",
    "        temp //= 10  \n",
    "    if n == sum:\n",
    "        return True\n",
    "         \n",
    "    else:  \n",
    "        return False\n",
    "        \n",
    "#IsarmstrongNumber(153)\n",
    "def armstrongNumbersRange(lb,ub):\n",
    "    for i in range(lb,ub+1):\n",
    "        if i%2!=0:\n",
    "            if IsarmstrongNumber(i):\n",
    "                print(i)\n",
    "    return\n",
    "armstrongNumbersRange(1,10000)\n",
    "            \n",
    "            "
   ]
  },
  {
   "cell_type": "code",
   "execution_count": null,
   "metadata": {},
   "outputs": [],
   "source": [
    "# Function to generate Multiplication table for a number in a given range\n",
    "#10 in the range(100, 102) inclusive\n",
    "#10 x 100 = 1000\n",
    "#10 x 101 = 1010\n",
    "#10 x 102 = 1020\n",
    "def multiplicationTable(n,ll,ul):\n",
    "    for i in range(ll,ul+1):\n",
    "        print(n,\" x \",n*i)\n",
    "    return\n",
    "n=10\n",
    "ll=100\n",
    "ul=110\n",
    "multiplicationTable(n,ll,ul)\n"
   ]
  },
  {
   "cell_type": "code",
   "execution_count": 1,
   "metadata": {},
   "outputs": [
    {
     "data": {
      "text/plain": [
       "'first_name'"
      ]
     },
     "execution_count": 1,
     "metadata": {},
     "output_type": "execute_result"
    }
   ],
   "source": [
    "s='first name'\n",
    "# phone number\n",
    "s.replace(\" \",\"_\")"
   ]
  },
  {
   "cell_type": "code",
   "execution_count": null,
   "metadata": {},
   "outputs": [],
   "source": [
    "# Ranking of batsmen\n",
    "d={}\n",
    "n=int(input(\"Enter number of Batsmens\"))\n",
    "for i in range(n):\n",
    "    name=input(\"Enter Batsmens name\")\n",
    "    score=int(input(\"Enter score\"))\n",
    "    d[name]=score"
   ]
  },
  {
   "cell_type": "code",
   "execution_count": null,
   "metadata": {},
   "outputs": [],
   "source": [
    "s1=sorted(d.items(),key=lambda k:k[1],reverse=True)\n",
    "print(s1)\n",
    "rank=1\n",
    "for i in s1:\n",
    "    print(rank,i[0])\n",
    "    rank+=1"
   ]
  },
  {
   "cell_type": "code",
   "execution_count": 2,
   "metadata": {},
   "outputs": [
    {
     "data": {
      "text/plain": [
       "'r@mu_mandava'"
      ]
     },
     "execution_count": 2,
     "metadata": {},
     "output_type": "execute_result"
    }
   ],
   "source": [
    "s='r@mu mandava'\n",
    "a=s.split(' ')\n",
    "a\n",
    "b='_'.join(a)\n",
    "b"
   ]
  },
  {
   "cell_type": "code",
   "execution_count": null,
   "metadata": {},
   "outputs": [],
   "source": [
    "# Commen factors in two numbers\n",
    "def commenfactors(n1,n2):\n",
    "    li1=factorList(n1)\n",
    "    print(li1)\n",
    "    li2=factorList(n2)\n",
    "    print(li2)\n",
    "    count=0\n",
    "    for i in li1:\n",
    "        if i in li2:\n",
    "            count+=1\n",
    "    return count\n",
    "commenfactors(10,20)"
   ]
  },
  {
   "cell_type": "code",
   "execution_count": null,
   "metadata": {},
   "outputs": [],
   "source": [
    "# Exam Problems\n",
    "li=[]\n",
    "while True:\n",
    "    n=input()\n",
    "    if n=='EXIT':\n",
    "        break\n",
    "    elif int(n) % 2==0:\n",
    "        li.append(int(n))\n",
    "print(\" \".join(list(map(str,li))))\n",
    "print(max(li))\n"
   ]
  },
  {
   "cell_type": "code",
   "execution_count": null,
   "metadata": {},
   "outputs": [],
   "source": [
    "# Exam problem 2\n",
    "n=int(input())\n",
    "d={}\n",
    "for i in range(n):\n",
    "    s=input().split('.')[-1]\n",
    "    \n",
    "    if s in d:\n",
    "        d[s]+=1\n",
    "    else :\n",
    "        d[s]=1\n",
    "m=max(d.values())\n",
    "for key,value in d.items():\n",
    "    if value==m:\n",
    "        print(key)"
   ]
  },
  {
   "cell_type": "code",
   "execution_count": null,
   "metadata": {},
   "outputs": [],
   "source": []
  }
 ],
 "metadata": {
  "kernelspec": {
   "display_name": "Python 3",
   "language": "python",
   "name": "python3"
  },
  "language_info": {
   "codemirror_mode": {
    "name": "ipython",
    "version": 3
   },
   "file_extension": ".py",
   "mimetype": "text/x-python",
   "name": "python",
   "nbconvert_exporter": "python",
   "pygments_lexer": "ipython3",
   "version": "3.7.3"
  }
 },
 "nbformat": 4,
 "nbformat_minor": 2
}
