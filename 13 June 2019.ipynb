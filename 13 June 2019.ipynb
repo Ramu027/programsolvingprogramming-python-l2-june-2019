{
 "cells": [
  {
   "cell_type": "code",
   "execution_count": 1,
   "metadata": {},
   "outputs": [
    {
     "data": {
      "text/plain": [
       "4.5"
      ]
     },
     "execution_count": 1,
     "metadata": {},
     "output_type": "execute_result"
    }
   ],
   "source": [
    "#Function to calculate average of all factors in a given range\n",
    "def avgfactorsofnumber(n):\n",
    "    count=0\n",
    "    sum=0\n",
    "    for i in range(1,n+1):\n",
    "        if n%i==0:\n",
    "            sum+=i\n",
    "            count+=1\n",
    "    return sum/count\n",
    "avgfactorsofnumber(10)"
   ]
  },
  {
   "cell_type": "code",
   "execution_count": 126,
   "metadata": {},
   "outputs": [
    {
     "data": {
      "text/plain": [
       "362880.0"
      ]
     },
     "execution_count": 126,
     "metadata": {},
     "output_type": "execute_result"
    }
   ],
   "source": [
    "#avg of n factorial in given range\n",
    "def fact(n):\n",
    "    fact=1\n",
    "    sum=0\n",
    "    count=0\n",
    "    for i in range(1,n+1):\n",
    "        fact*=i\n",
    "        sum+=fact\n",
    "        count+=1\n",
    "    return fact/count\n",
    "fact(10)\n"
   ]
  },
  {
   "cell_type": "code",
   "execution_count": 2,
   "metadata": {},
   "outputs": [],
   "source": [
    "def avgfact(lb,ub):\n",
    "    for i in range(lb,ub+1):\n",
    "        #count=o\n",
    "        fact(i)\n",
    "    return fact/(ub-lb+1)\n",
    "#avgfact(100,110)      "
   ]
  },
  {
   "cell_type": "code",
   "execution_count": 46,
   "metadata": {},
   "outputs": [
    {
     "name": "stdout",
     "output_type": "stream",
     "text": [
      "10 * 100 = 1000\n",
      "10 * 101 = 1010\n",
      "10 * 102 = 1020\n",
      "10 * 103 = 1030\n",
      "10 * 104 = 1040\n",
      "10 * 105 = 1050\n",
      "10 * 106 = 1060\n",
      "10 * 107 = 1070\n",
      "10 * 108 = 1080\n",
      "10 * 109 = 1090\n"
     ]
    }
   ],
   "source": [
    "#Function to generate Multiplication table for a number in a given range\n",
    "def table(n,startvalue,endvalue):\n",
    "    for i in range(startvalue,endvalue):\n",
    "        print(n,\"*\",i,\"=\",n*i)\n",
    "    return\n",
    "table(10,100,110)"
   ]
  },
  {
   "cell_type": "code",
   "execution_count": 64,
   "metadata": {},
   "outputs": [
    {
     "data": {
      "text/plain": [
       "True"
      ]
     },
     "execution_count": 64,
     "metadata": {},
     "output_type": "execute_result"
    }
   ],
   "source": [
    "#Function to generate N odd armstrong numbers\n",
    "def isarmstrong(n):\n",
    "    sum=0\n",
    "    temp=n\n",
    "    while temp > 0:  \n",
    "        digit = temp % 10  \n",
    "        sum += digit ** 3  \n",
    "        temp //= 10  \n",
    "  \n",
    "    if n == sum: \n",
    "        \n",
    "        return True \n",
    "    else:  \n",
    "        return False\n",
    "isarmstrong(153)\n"
   ]
  },
  {
   "cell_type": "code",
   "execution_count": 66,
   "metadata": {},
   "outputs": [
    {
     "name": "stdout",
     "output_type": "stream",
     "text": [
      "153\n",
      "371\n"
     ]
    }
   ],
   "source": [
    "def Narmstrong(lb,ub):\n",
    "    for i in range(lb,ub+1):\n",
    "        if isarmstrong(i):\n",
    "            if i%2!=0:\n",
    "                print(i)\n",
    "Narmstrong(100,400)"
   ]
  },
  {
   "cell_type": "code",
   "execution_count": 11,
   "metadata": {},
   "outputs": [
    {
     "name": "stdout",
     "output_type": "stream",
     "text": [
      "40 38 36 34 32 30 28 26 24 22 20 18 16 14 12 10 "
     ]
    }
   ],
   "source": [
    "#function to print reverse of given range in the \n",
    "def reverse(lb,ub):\n",
    "    for i in range(ub,lb-1,-2):\n",
    "        print(i,end=\" \")\n",
    "    return\n",
    "reverse(10,40)"
   ]
  },
  {
   "cell_type": "code",
   "execution_count": 5,
   "metadata": {},
   "outputs": [
    {
     "name": "stdout",
     "output_type": "stream",
     "text": [
      "9 7 5 3 1 "
     ]
    }
   ],
   "source": [
    "#Function to print odd numbers in reverse order in a range\n",
    "def oddreverse(lb,ub):\n",
    "    for i in range(ub,lb-1,-1):\n",
    "        if i%2!=0:\n",
    "            print(i,end=\" \")\n",
    "    return\n",
    "oddreverse(1,10)"
   ]
  },
  {
   "cell_type": "code",
   "execution_count": 16,
   "metadata": {},
   "outputs": [
    {
     "data": {
      "text/plain": [
       "5.5"
      ]
     },
     "execution_count": 16,
     "metadata": {},
     "output_type": "execute_result"
    }
   ],
   "source": [
    "#Function to calculate the average of a given range\n",
    "def avgofrange(lb,ub):\n",
    "    total=0\n",
    "    count=0\n",
    "    for i in range(lb,ub+1):\n",
    "        total=total+i\n",
    "        count=count+1\n",
    "    return total/count\n",
    "avgofrange(1,10)"
   ]
  },
  {
   "cell_type": "code",
   "execution_count": 28,
   "metadata": {},
   "outputs": [
    {
     "data": {
      "text/plain": [
       "False"
      ]
     },
     "execution_count": 28,
     "metadata": {},
     "output_type": "execute_result"
    }
   ],
   "source": [
    "#function to generate the leap year in the given time period\n",
    "def isleapyear(year):\n",
    "    \n",
    "    if year%400==0 or (year%100!=0 and year%4==0):\n",
    "        return True\n",
    "    else:\n",
    "        return False\n",
    "    \n",
    "def leapgeneration(ly,uy):\n",
    "    for i in range(ly,uy+1):\n",
    "        if isleapyear(i)==True:\n",
    "            print(i,end=\" \")\n",
    "        \n",
    "    return\n",
    "isleapyear(1919)"
   ]
  },
  {
   "cell_type": "code",
   "execution_count": 4,
   "metadata": {},
   "outputs": [],
   "source": [
    "#calculate number of days in a given time period\n",
    "def numberofdays(startyear,endyear):\n",
    "    sum=0\n",
    "    for i in range(startyear,endyear+1):\n",
    "        if isleapyear(i):\n",
    "            sum+=366\n",
    "        else:\n",
    "            sum+=365\n",
    "    return sum\n",
    "#numberofdays(2017,2018)"
   ]
  },
  {
   "cell_type": "code",
   "execution_count": 33,
   "metadata": {},
   "outputs": [
    {
     "data": {
      "text/plain": [
       "205248"
      ]
     },
     "execution_count": 33,
     "metadata": {},
     "output_type": "execute_result"
    }
   ],
   "source": [
    "#function to calculate number of hours in a given time period\n",
    "#numberof hours(2,2016,6,2019)\n",
    "#[all days from feb 2016 to dec 2016, all days for years between 2017 and 2018 and all days from jan to june 2019]\n",
    "\n",
    "def numberofdaysmonth(month,year):\n",
    "    if month==2:\n",
    "        if isleapyear(year):\n",
    "            return 29\n",
    "        return 28\n",
    "    elif (month<=7 and month%2!=0) or (month>=8 and month%2==0):\n",
    "        return 31\n",
    "    else:\n",
    "         return 30\n",
    "def daysinstartyear(startmonth,startyear):\n",
    "    days=0\n",
    "    for month in range(startmonth,13):\n",
    "        days+=numberofdaysmonth(month,startyear)\n",
    "    return days\n",
    "\n",
    "def daysinendyear(endmonth,endyear):\n",
    "    days=0\n",
    "    for month in range(1,endmonth+1):\n",
    "        days+= numberofdaysmonth(month,endyear)\n",
    "    return days\n",
    "\n",
    "\n",
    "def numberofhours(startmonth,startyear,endmonth,endyear):\n",
    "    days=0\n",
    "    if startyear!=endyear:\n",
    "        days+=daysinstartyear(startmonth,startyear)\n",
    "        days+=daysinendyear(endmonth,endyear)\n",
    "        if endyear-startyear==2:\n",
    "            days+=numberofdays(startyear+1,startyear+1)\n",
    "        elif endyear-startyear>2:\n",
    "            days+=numberofdays(startyear+1,endyear-1)\n",
    "    else:\n",
    "        for month in range(startmonth,endmonth):\n",
    "            days+=numberofdaysmonth(month,startyear)\n",
    "    return 24*days\n",
    "numberofhours(11,1975,3,1999)\n",
    "#daysinendyear(3,1999)\n",
    "#daysinstartyear(11,1975)\n",
    "#numberofdaysmonth(12,2012)\n",
    "#numberofdays(1976,1999)\n",
    "#numberofdaysmonth(2,1992)"
   ]
  },
  {
   "cell_type": "code",
   "execution_count": null,
   "metadata": {},
   "outputs": [],
   "source": []
  }
 ],
 "metadata": {
  "kernelspec": {
   "display_name": "Python 3",
   "language": "python",
   "name": "python3"
  },
  "language_info": {
   "codemirror_mode": {
    "name": "ipython",
    "version": 3
   },
   "file_extension": ".py",
   "mimetype": "text/x-python",
   "name": "python",
   "nbconvert_exporter": "python",
   "pygments_lexer": "ipython3",
   "version": "3.7.3"
  }
 },
 "nbformat": 4,
 "nbformat_minor": 2
}
